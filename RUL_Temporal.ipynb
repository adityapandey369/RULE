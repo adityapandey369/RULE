{
  "nbformat": 4,
  "nbformat_minor": 0,
  "metadata": {
    "colab": {
      "provenance": [],
      "gpuType": "V28"
    },
    "kernelspec": {
      "name": "python3",
      "display_name": "Python 3"
    },
    "language_info": {
      "name": "python"
    },
    "accelerator": "TPU"
  },
  "cells": [
    {
      "cell_type": "markdown",
      "source": [
        "Import And Other Stuff\n",
        "\n",
        "---\n",
        "\n",
        "---\n"
      ],
      "metadata": {
        "id": "owLfrsuCLutg"
      }
    },
    {
      "cell_type": "code",
      "execution_count": 2,
      "metadata": {
        "id": "_Ls3dvA2xoQ5",
        "colab": {
          "base_uri": "https://localhost:8080/"
        },
        "outputId": "89ab1c51-c23e-41e8-b491-0875a22d33f6"
      },
      "outputs": [
        {
          "output_type": "stream",
          "name": "stdout",
          "text": [
            "Drive already mounted at /content/drive; to attempt to forcibly remount, call drive.mount(\"/content/drive\", force_remount=True).\n"
          ]
        }
      ],
      "source": [
        "from google.colab import drive\n",
        "drive.mount('/content/drive')"
      ]
    },
    {
      "cell_type": "code",
      "source": [
        "!pip install pandas==1.5.3\n",
        "!pip install tsfel"
      ],
      "metadata": {
        "id": "adAJqvqNTLX1",
        "colab": {
          "base_uri": "https://localhost:8080/"
        },
        "outputId": "f02f2981-87ea-44c7-a308-cf6b26197a46"
      },
      "execution_count": 3,
      "outputs": [
        {
          "output_type": "stream",
          "name": "stdout",
          "text": [
            "Requirement already satisfied: pandas==1.5.3 in /usr/local/lib/python3.10/dist-packages (1.5.3)\n",
            "Requirement already satisfied: python-dateutil>=2.8.1 in /usr/local/lib/python3.10/dist-packages (from pandas==1.5.3) (2.8.2)\n",
            "Requirement already satisfied: pytz>=2020.1 in /usr/local/lib/python3.10/dist-packages (from pandas==1.5.3) (2024.1)\n",
            "Requirement already satisfied: numpy>=1.21.0 in /usr/local/lib/python3.10/dist-packages (from pandas==1.5.3) (1.26.4)\n",
            "Requirement already satisfied: six>=1.5 in /usr/local/lib/python3.10/dist-packages (from python-dateutil>=2.8.1->pandas==1.5.3) (1.16.0)\n",
            "Requirement already satisfied: tsfel in /usr/local/lib/python3.10/dist-packages (0.1.9)\n",
            "Requirement already satisfied: ipython>=7.4.0 in /usr/local/lib/python3.10/dist-packages (from tsfel) (7.34.0)\n",
            "Requirement already satisfied: numpy>=1.18.5 in /usr/local/lib/python3.10/dist-packages (from tsfel) (1.26.4)\n",
            "Requirement already satisfied: pandas>=1.5.3 in /usr/local/lib/python3.10/dist-packages (from tsfel) (1.5.3)\n",
            "Requirement already satisfied: PyWavelets>=1.4.1 in /usr/local/lib/python3.10/dist-packages (from tsfel) (1.7.0)\n",
            "Requirement already satisfied: requests>=2.31.0 in /usr/local/lib/python3.10/dist-packages (from tsfel) (2.32.3)\n",
            "Requirement already satisfied: scikit-learn>=0.21.3 in /usr/local/lib/python3.10/dist-packages (from tsfel) (1.3.2)\n",
            "Requirement already satisfied: scipy>=1.7.3 in /usr/local/lib/python3.10/dist-packages (from tsfel) (1.13.1)\n",
            "Requirement already satisfied: setuptools>=47.1.1 in /usr/local/lib/python3.10/dist-packages (from tsfel) (71.0.4)\n",
            "Requirement already satisfied: statsmodels>=0.12.0 in /usr/local/lib/python3.10/dist-packages (from tsfel) (0.14.2)\n",
            "Requirement already satisfied: jedi>=0.16 in /usr/local/lib/python3.10/dist-packages (from ipython>=7.4.0->tsfel) (0.19.1)\n",
            "Requirement already satisfied: decorator in /usr/local/lib/python3.10/dist-packages (from ipython>=7.4.0->tsfel) (4.4.2)\n",
            "Requirement already satisfied: pickleshare in /usr/local/lib/python3.10/dist-packages (from ipython>=7.4.0->tsfel) (0.7.5)\n",
            "Requirement already satisfied: traitlets>=4.2 in /usr/local/lib/python3.10/dist-packages (from ipython>=7.4.0->tsfel) (5.7.1)\n",
            "Requirement already satisfied: prompt-toolkit!=3.0.0,!=3.0.1,<3.1.0,>=2.0.0 in /usr/local/lib/python3.10/dist-packages (from ipython>=7.4.0->tsfel) (3.0.47)\n",
            "Requirement already satisfied: pygments in /usr/local/lib/python3.10/dist-packages (from ipython>=7.4.0->tsfel) (2.16.1)\n",
            "Requirement already satisfied: backcall in /usr/local/lib/python3.10/dist-packages (from ipython>=7.4.0->tsfel) (0.2.0)\n",
            "Requirement already satisfied: matplotlib-inline in /usr/local/lib/python3.10/dist-packages (from ipython>=7.4.0->tsfel) (0.1.7)\n",
            "Requirement already satisfied: pexpect>4.3 in /usr/local/lib/python3.10/dist-packages (from ipython>=7.4.0->tsfel) (4.9.0)\n",
            "Requirement already satisfied: python-dateutil>=2.8.1 in /usr/local/lib/python3.10/dist-packages (from pandas>=1.5.3->tsfel) (2.8.2)\n",
            "Requirement already satisfied: pytz>=2020.1 in /usr/local/lib/python3.10/dist-packages (from pandas>=1.5.3->tsfel) (2024.1)\n",
            "Requirement already satisfied: charset-normalizer<4,>=2 in /usr/local/lib/python3.10/dist-packages (from requests>=2.31.0->tsfel) (3.3.2)\n",
            "Requirement already satisfied: idna<4,>=2.5 in /usr/local/lib/python3.10/dist-packages (from requests>=2.31.0->tsfel) (3.8)\n",
            "Requirement already satisfied: urllib3<3,>=1.21.1 in /usr/local/lib/python3.10/dist-packages (from requests>=2.31.0->tsfel) (2.0.7)\n",
            "Requirement already satisfied: certifi>=2017.4.17 in /usr/local/lib/python3.10/dist-packages (from requests>=2.31.0->tsfel) (2024.8.30)\n",
            "Requirement already satisfied: joblib>=1.1.1 in /usr/local/lib/python3.10/dist-packages (from scikit-learn>=0.21.3->tsfel) (1.4.2)\n",
            "Requirement already satisfied: threadpoolctl>=2.0.0 in /usr/local/lib/python3.10/dist-packages (from scikit-learn>=0.21.3->tsfel) (3.5.0)\n",
            "Requirement already satisfied: patsy>=0.5.6 in /usr/local/lib/python3.10/dist-packages (from statsmodels>=0.12.0->tsfel) (0.5.6)\n",
            "Requirement already satisfied: packaging>=21.3 in /usr/local/lib/python3.10/dist-packages (from statsmodels>=0.12.0->tsfel) (24.1)\n",
            "Requirement already satisfied: parso<0.9.0,>=0.8.3 in /usr/local/lib/python3.10/dist-packages (from jedi>=0.16->ipython>=7.4.0->tsfel) (0.8.4)\n",
            "Requirement already satisfied: six in /usr/local/lib/python3.10/dist-packages (from patsy>=0.5.6->statsmodels>=0.12.0->tsfel) (1.16.0)\n",
            "Requirement already satisfied: ptyprocess>=0.5 in /usr/local/lib/python3.10/dist-packages (from pexpect>4.3->ipython>=7.4.0->tsfel) (0.7.0)\n",
            "Requirement already satisfied: wcwidth in /usr/local/lib/python3.10/dist-packages (from prompt-toolkit!=3.0.0,!=3.0.1,<3.1.0,>=2.0.0->ipython>=7.4.0->tsfel) (0.2.13)\n"
          ]
        }
      ]
    },
    {
      "cell_type": "code",
      "source": [
        "import os\n",
        "import glob\n",
        "from scipy.stats import pearsonr\n",
        "import pandas as pd\n",
        "import numpy as np\n",
        "import seaborn as sns\n",
        "import matplotlib.pyplot as plt\n",
        "%matplotlib inline\n",
        "pd.show_versions()\n",
        "from sklearn.model_selection import train_test_split\n",
        "import tsfel"
      ],
      "metadata": {
        "id": "ExAN1UuuGbub",
        "colab": {
          "base_uri": "https://localhost:8080/"
        },
        "outputId": "2749a49d-2eb9-4b48-c216-300d9e15821a"
      },
      "execution_count": 4,
      "outputs": [
        {
          "output_type": "stream",
          "name": "stdout",
          "text": [
            "\n",
            "INSTALLED VERSIONS\n",
            "------------------\n",
            "commit           : 2e218d10984e9919f0296931d92ea851c6a6faf5\n",
            "python           : 3.10.12.final.0\n",
            "python-bits      : 64\n",
            "OS               : Linux\n",
            "OS-release       : 6.1.85+\n",
            "Version          : #1 SMP PREEMPT_DYNAMIC Thu Jun 27 21:05:47 UTC 2024\n",
            "machine          : x86_64\n",
            "processor        : x86_64\n",
            "byteorder        : little\n",
            "LC_ALL           : en_US.UTF-8\n",
            "LANG             : en_US.UTF-8\n",
            "LOCALE           : en_US.UTF-8\n",
            "\n",
            "pandas           : 1.5.3\n",
            "numpy            : 1.26.4\n",
            "pytz             : 2024.1\n",
            "dateutil         : 2.8.2\n",
            "setuptools       : 71.0.4\n",
            "pip              : 24.1.2\n",
            "Cython           : 3.0.11\n",
            "pytest           : 7.4.4\n",
            "hypothesis       : None\n",
            "sphinx           : 5.0.2\n",
            "blosc            : None\n",
            "feather          : None\n",
            "xlsxwriter       : None\n",
            "lxml.etree       : 4.9.4\n",
            "html5lib         : 1.1\n",
            "pymysql          : None\n",
            "psycopg2         : 2.9.9\n",
            "jinja2           : 3.1.4\n",
            "IPython          : 7.34.0\n",
            "pandas_datareader: 0.10.0\n",
            "bs4              : 4.12.3\n",
            "bottleneck       : None\n",
            "brotli           : None\n",
            "fastparquet      : None\n",
            "fsspec           : 2024.6.1\n",
            "gcsfs            : 2024.6.1\n",
            "matplotlib       : 3.7.1\n",
            "numba            : 0.60.0\n",
            "numexpr          : 2.10.1\n",
            "odfpy            : None\n",
            "openpyxl         : 3.1.5\n",
            "pandas_gbq       : 0.23.1\n",
            "pyarrow          : 14.0.2\n",
            "pyreadstat       : None\n",
            "pyxlsb           : None\n",
            "s3fs             : None\n",
            "scipy            : 1.13.1\n",
            "snappy           : None\n",
            "sqlalchemy       : 2.0.34\n",
            "tables           : 3.8.0\n",
            "tabulate         : 0.9.0\n",
            "xarray           : 2024.6.0\n",
            "xlrd             : 2.0.1\n",
            "xlwt             : None\n",
            "zstandard        : None\n",
            "tzdata           : 2024.1\n"
          ]
        }
      ]
    },
    {
      "cell_type": "markdown",
      "source": [
        "DONE\n",
        "\n",
        "---\n",
        "\n",
        "\n",
        "\n",
        "---\n",
        "\n"
      ],
      "metadata": {
        "id": "Ug0SFjhKM7N5"
      }
    },
    {
      "cell_type": "markdown",
      "source": [
        "**Feature extraction of only one file**\n",
        "\n",
        "---\n",
        "\n",
        "\n",
        "\n",
        "---\n",
        "\n"
      ],
      "metadata": {
        "id": "A8zSD1Y5RW78"
      }
    },
    {
      "cell_type": "code",
      "source": [
        "file_1 = pd.read_csv(\"/content/drive/MyDrive/RUL_Estimation/W1_data/1.csv\"\")\n",
        "file_1"
      ],
      "metadata": {
        "id": "4GW0ZWSLxyPx"
      },
      "execution_count": null,
      "outputs": []
    },
    {
      "cell_type": "code",
      "source": [
        "file_1a = file_1.iloc[:,1:9]\n",
        "file_1a"
      ],
      "metadata": {
        "id": "uoU33MPVyNpd"
      },
      "execution_count": null,
      "outputs": []
    },
    {
      "cell_type": "code",
      "source": [
        "cfg_file = tsfel.get_features_by_domain(\"temporal\")\n",
        "X_train_1 = tsfel.time_series_features_extractor(cfg_file, file_1, fs=300, window_size=300)"
      ],
      "metadata": {
        "id": "L8qvvoUKykZe"
      },
      "execution_count": null,
      "outputs": []
    },
    {
      "cell_type": "code",
      "source": [
        "X_train_1['wear'] = 0.12\n",
        "X_train_1"
      ],
      "metadata": {
        "id": "kzAXw4vizomZ"
      },
      "execution_count": null,
      "outputs": []
    },
    {
      "cell_type": "markdown",
      "source": [
        "DONE\n",
        "\n",
        "---\n",
        "\n",
        "\n",
        "\n",
        "---\n",
        "\n"
      ],
      "metadata": {
        "id": "odjSpfp-Myj_"
      }
    },
    {
      "cell_type": "markdown",
      "source": [
        "LOOP FROM IMPORT TO SAVE THE FILES IN DRIVE\n",
        "\n",
        "---\n",
        "\n",
        "\n",
        "\n",
        "---\n",
        "TEMPORAL\n",
        "\n",
        "\n",
        "---\n",
        "\n"
      ],
      "metadata": {
        "id": "o4AL_1CbM_Tq"
      }
    },
    {
      "cell_type": "code",
      "source": [
        "cfg_file_1 = tsfel.get_features_by_domain(\"temporal\")"
      ],
      "metadata": {
        "id": "IMnE1UfhNvdX"
      },
      "execution_count": null,
      "outputs": []
    },
    {
      "cell_type": "code",
      "source": [
        "#v_max1 = pd.read_csv('/content/drive/MyDrive/datasets/Tool wear labels.csv')\n",
        "#v_max_1 = v_max1.iloc[:30,2:3]\n",
        "#v_max_1"
      ],
      "metadata": {
        "id": "otOsh1H5iVz3"
      },
      "execution_count": null,
      "outputs": []
    },
    {
      "cell_type": "code",
      "source": [
        " list1 = [0.12, 0.14, 0.14, 0.15, 0.16, 0.18, 0.18 ,0.18, 0.19, 0.12, 0.21, 0.21, 0.22, 0.22, 0.22, 0.23, 0.23, 0.23, 0.23, 0.23, 0.24, 0.24, 0.24, 0.24, 0.25, 0.25,0.25,0.26,0.26,0.27]\n",
        " print(list1)"
      ],
      "metadata": {
        "id": "9tepiEFg1Qe-"
      },
      "execution_count": null,
      "outputs": []
    },
    {
      "cell_type": "code",
      "source": [
        "for i in range(1,2):\n",
        "  file_ =+i\n",
        "  file_ = pd.read_csv(\"/content/drive/MyDrive/RUL_Estimation/W1_data/\"+str(i)+\".csv\")\n",
        "\n",
        "  filee =+i\n",
        "  filee = file_.iloc[:,1:9]\n",
        "  print(filee,\"THIS FILE NUMBER IS\",i)\n",
        "\n",
        "  X_train_ = \"X_train_\"+str(i)\n",
        "  print(X_train_)\n",
        "  X_train_ = tsfel.time_series_features_extractor(cfg_file, filee, fs=300, window_size=300)\n",
        "\n",
        "  a =+i\n",
        "  b =+a - 1\n",
        "  X_train_['wear'] = list1[b]\n",
        "  print(X_train_.columns.tolist())\n",
        "  #print(X_train_)\n",
        "\n",
        "  #path ='/content/drive/MyDrive/uploaded wear files/X_train_'+str(a)+'.csv'\n",
        "  #with open(path, 'w', encoding = 'utf-8-sig') as f:\n",
        "   #     X_train_.to_csv(f)\n",
        "    #    print(\"feature extrated file number\",str(a),\"is saved\")\n"
      ],
      "metadata": {
        "id": "lASAAC8I1CXh"
      },
      "execution_count": null,
      "outputs": []
    },
    {
      "cell_type": "markdown",
      "source": [
        "DONE\n",
        "\n",
        "---\n",
        "\n",
        "\n",
        "\n",
        "---\n",
        "\n"
      ],
      "metadata": {
        "id": "yEQ1Cp6HN-Ju"
      }
    },
    {
      "cell_type": "markdown",
      "source": [
        "CONCATING ALL FILES IN W1 FOLDER\n",
        "\n",
        "---\n",
        "\n",
        "\n",
        "\n",
        "---\n",
        "\n"
      ],
      "metadata": {
        "id": "vh8Hs-HBOByf"
      }
    },
    {
      "cell_type": "code",
      "source": [
        "indir= \"/content/drive/MyDrive/RUL_Estimation/Temporal/feature extracted and wear plotted files/\"\n",
        "outfile= \"/content/drive/MyDrive/RUL_Estimation/Temporal/Concated DataSets/dataset1.csv\"\n",
        "\n",
        "os.chdir(indir)\n",
        "filelist =glob.glob(\"*.csv\")\n",
        "dfList= []\n",
        "colnames = ['0_Absolute energy', '0_Area under the curve', '0_Autocorrelation', '0_Centroid', '0_Entropy', '0_Mean absolute diff', '0_Mean diff', '0_Median absolute diff', '0_Median diff', '0_Negative turning points', '0_Neighbourhood peaks', '0_Peak to peak distance', '0_Positive turning points', '0_Signal distance', '0_Slope', '0_Sum absolute diff', '0_Total energy', '0_Zero crossing rate', '1_Absolute energy', '1_Area under the curve', '1_Autocorrelation', '1_Centroid', '1_Entropy', '1_Mean absolute diff', '1_Mean diff', '1_Median absolute diff', '1_Median diff', '1_Negative turning points', '1_Neighbourhood peaks', '1_Peak to peak distance', '1_Positive turning points', '1_Signal distance', '1_Slope', '1_Sum absolute diff', '1_Total energy', '1_Zero crossing rate', '2_Absolute energy', '2_Area under the curve', '2_Autocorrelation', '2_Centroid', '2_Entropy', '2_Mean absolute diff', '2_Mean diff', '2_Median absolute diff', '2_Median diff', '2_Negative turning points', '2_Neighbourhood peaks', '2_Peak to peak distance', '2_Positive turning points', '2_Signal distance', '2_Slope', '2_Sum absolute diff', '2_Total energy', '2_Zero crossing rate', '3_Absolute energy', '3_Area under the curve', '3_Autocorrelation', '3_Centroid', '3_Entropy', '3_Mean absolute diff', '3_Mean diff', '3_Median absolute diff', '3_Median diff', '3_Negative turning points', '3_Neighbourhood peaks', '3_Peak to peak distance', '3_Positive turning points', '3_Signal distance', '3_Slope', '3_Sum absolute diff', '3_Total energy', '3_Zero crossing rate', '4_Absolute energy', '4_Area under the curve', '4_Autocorrelation', '4_Centroid', '4_Entropy', '4_Mean absolute diff', '4_Mean diff', '4_Median absolute diff', '4_Median diff', '4_Negative turning points', '4_Neighbourhood peaks', '4_Peak to peak distance', '4_Positive turning points', '4_Signal distance', '4_Slope', '4_Sum absolute diff', '4_Total energy', '4_Zero crossing rate', '5_Absolute energy', '5_Area under the curve', '5_Autocorrelation', '5_Centroid', '5_Entropy', '5_Mean absolute diff', '5_Mean diff', '5_Median absolute diff', '5_Median diff', '5_Negative turning points', '5_Neighbourhood peaks', '5_Peak to peak distance', '5_Positive turning points', '5_Signal distance', '5_Slope', '5_Sum absolute diff', '5_Total energy', '5_Zero crossing rate', '6_Absolute energy', '6_Area under the curve', '6_Autocorrelation', '6_Centroid', '6_Entropy', '6_Mean absolute diff', '6_Mean diff', '6_Median absolute diff', '6_Median diff', '6_Negative turning points', '6_Neighbourhood peaks', '6_Peak to peak distance', '6_Positive turning points', '6_Signal distance', '6_Slope', '6_Sum absolute diff', '6_Total energy', '6_Zero crossing rate', '7_Absolute energy', '7_Area under the curve', '7_Autocorrelation', '7_Centroid', '7_Entropy', '7_Mean absolute diff', '7_Mean diff', '7_Median absolute diff', '7_Median diff', '7_Negative turning points', '7_Neighbourhood peaks', '7_Peak to peak distance', '7_Positive turning points', '7_Signal distance', '7_Slope', '7_Sum absolute diff', '7_Total energy', '7_Zero crossing rate', 'wear']\n",
        "\n",
        "for filename in filelist:\n",
        "    print(filename)\n",
        "    df = pd.read_csv(filename)\n",
        "    df = df.iloc[:,1:146]\n",
        "    dfList.append(df)\n",
        "concatDf=pd.concat(dfList,join =\"inner\")\n",
        "concatDf.columns = colnames\n",
        "concatDf.to_csv(outfile, index=None)"
      ],
      "metadata": {
        "id": "XmP_yBcsDMSl"
      },
      "execution_count": null,
      "outputs": []
    },
    {
      "cell_type": "markdown",
      "source": [],
      "metadata": {
        "id": "dU9S-jd5HHIt"
      }
    },
    {
      "cell_type": "markdown",
      "source": [
        "DONE\n",
        "\n",
        "---\n",
        "\n",
        "\n",
        "\n",
        "---\n",
        "\n"
      ],
      "metadata": {
        "id": "PQcyro5cONoP"
      }
    },
    {
      "cell_type": "markdown",
      "source": [
        "FEATURE SELECTION\n",
        "\n",
        "---\n",
        "\n",
        "\n",
        "\n",
        "---\n",
        "\n"
      ],
      "metadata": {
        "id": "9za3PsJrOUXc"
      }
    },
    {
      "cell_type": "code",
      "source": [
        "df = pd.read_csv(\"/content/drive/MyDrive/RUL_Estimation/Temporal/Concated DataSets/dataset1.csv\")"
      ],
      "metadata": {
        "id": "zYEUyA6pnmnG"
      },
      "execution_count": 5,
      "outputs": []
    },
    {
      "cell_type": "code",
      "source": [
        "from sklearn.preprocessing import StandardScaler\n",
        "scaler = StandardScaler()\n",
        "scaled_data = scaler.fit_transform(df)\n",
        "scaled_df = pd.DataFrame(scaled_data, columns=df.columns)\n"
      ],
      "metadata": {
        "id": "wxCbXmM90PbU"
      },
      "execution_count": 6,
      "outputs": []
    },
    {
      "cell_type": "markdown",
      "source": [
        "\n",
        "\n",
        "---\n",
        "\n",
        "\n",
        "\n",
        "---\n",
        "\n",
        "Pearson Correlation Coefficient\n",
        "\n",
        "---\n",
        "\n",
        "\n",
        "\n",
        "---\n",
        "\n"
      ],
      "metadata": {
        "id": "TrGhfs2XAW6y"
      }
    },
    {
      "cell_type": "code",
      "source": [
        "num1,num2,num3 = list(),list(),list()\n",
        "from scipy.stats import pearsonr\n",
        "\n",
        "for i in scaled_df.columns:\n",
        "    X=scaled_df['{}'.format(i)].astype(float)\n",
        "    y=scaled_df['wear'].astype(float)\n",
        "\n",
        "    correlation,pvalue=pearsonr(X,y)\n",
        "\n",
        "    num3.append(pvalue)\n",
        "    num1.append(i)\n",
        "    num2.append(correlation)\n",
        "\n",
        "correlation_tables = pd.DataFrame({'Feature':num1,'correlation':num2,'pvalue':num3}).sort_values('correlation',ascending=False)\n",
        "correlation_tables = correlation_tables.iloc[1:15,0:1]\n",
        "print(correlation_tables.Feature.tolist())"
      ],
      "metadata": {
        "id": "IsBgPfUK_oge",
        "colab": {
          "base_uri": "https://localhost:8080/"
        },
        "outputId": "9ae2a27d-2897-4144-c3f7-3a2bb772ae3e"
      },
      "execution_count": 7,
      "outputs": [
        {
          "output_type": "stream",
          "name": "stdout",
          "text": [
            "['2_Area under the curve', '7_Entropy', '2_Absolute energy', '2_Total energy', '2_Autocorrelation', '6_Entropy', '3_Autocorrelation', '3_Absolute energy', '3_Total energy', '7_Mean absolute diff', '7_Sum absolute diff', '2_Sum absolute diff', '2_Mean absolute diff', '2_Signal distance']\n"
          ]
        },
        {
          "output_type": "stream",
          "name": "stderr",
          "text": [
            "<ipython-input-7-8d1f84d12259>:8: ConstantInputWarning: An input array is constant; the correlation coefficient is not defined.\n",
            "  correlation,pvalue=pearsonr(X,y)\n"
          ]
        }
      ]
    },
    {
      "cell_type": "markdown",
      "source": [
        "\n",
        "\n",
        "---\n",
        "\n",
        "\n",
        "\n",
        "---\n",
        "\n",
        "Spearman's Rank Correlation Coefficient\n",
        "\n",
        "---\n",
        "\n",
        "\n",
        "\n",
        "---\n",
        "\n"
      ],
      "metadata": {
        "id": "eozNYJELAODR"
      }
    },
    {
      "cell_type": "code",
      "source": [
        "num1,num2,num3 = list(),list(),list()\n",
        "from scipy.stats import kendalltau\n",
        "\n",
        "for i in scaled_df.columns:\n",
        "    X=scaled_df['{}'.format(i)].astype(float)\n",
        "    y=scaled_df['wear'].astype(float)\n",
        "\n",
        "    tau, p_value = kendalltau(X, y)\n",
        "\n",
        "    num3.append(pvalue)\n",
        "    num1.append(i)\n",
        "    num2.append(tau)\n",
        "\n",
        "rho_tables = pd.DataFrame({'Feature':num1,'tau':num2,'pvalue':num3}).sort_values('tau',ascending=False)\n",
        "rho_tables = correlation_tables.iloc[1:15,0:1]\n",
        "print(rho_tables.Feature.tolist())\n"
      ],
      "metadata": {
        "id": "dceVDoKQ2s0Z",
        "colab": {
          "base_uri": "https://localhost:8080/"
        },
        "outputId": "b40610e3-2e76-4fe2-c062-30e989d43d3d"
      },
      "execution_count": 8,
      "outputs": [
        {
          "output_type": "stream",
          "name": "stdout",
          "text": [
            "['7_Entropy', '2_Absolute energy', '2_Total energy', '2_Autocorrelation', '6_Entropy', '3_Autocorrelation', '3_Absolute energy', '3_Total energy', '7_Mean absolute diff', '7_Sum absolute diff', '2_Sum absolute diff', '2_Mean absolute diff', '2_Signal distance']\n"
          ]
        }
      ]
    },
    {
      "cell_type": "code",
      "source": [
        "selected_features = df[['7_Entropy', '2_Absolute energy', '2_Total energy', '2_Autocorrelation', '6_Entropy', '3_Autocorrelation', '3_Absolute energy', '3_Total energy', '7_Mean absolute diff', '7_Sum absolute diff', '2_Sum absolute diff', '2_Mean absolute diff', '2_Signal distance','wear']].copy()"
      ],
      "metadata": {
        "id": "lnDSWOgKAgsz"
      },
      "execution_count": 9,
      "outputs": []
    },
    {
      "cell_type": "code",
      "source": [
        "from sklearn.ensemble import RandomForestRegressor\n",
        "from sklearn.metrics import mean_squared_error,mean_absolute_percentage_error, r2_score, mean_absolute_error"
      ],
      "metadata": {
        "id": "dUG2vGs7AxHB"
      },
      "execution_count": 10,
      "outputs": []
    },
    {
      "cell_type": "code",
      "source": [
        "from sklearn.model_selection import train_test_split\n",
        "y = selected_features.iloc[:,-1:]\n",
        "x = selected_features.iloc[:,0:-1]\n",
        "x_train, x_test, y_train, y_test = train_test_split(x, y, test_size = 0.25, random_state = 42 )"
      ],
      "metadata": {
        "id": "0dZSrPHy1s9e"
      },
      "execution_count": 12,
      "outputs": []
    },
    {
      "cell_type": "code",
      "source": [
        "rf = RandomForestRegressor(n_estimators=500, max_depth=8)\n",
        "rf.fit(x_train,y_train)\n",
        "\n",
        "y_pred = rf.predict(x_test)\n",
        "\n",
        "from sklearn.metrics import mean_squared_error, r2_score, mean_absolute_error\n",
        "x1 = mean_squared_error(y_test,y_pred)\n",
        "x2 = mean_absolute_error(y_test,y_pred)\n",
        "A2 = r2_score(y_test,y_pred)\n",
        "accuracy = (A2 * 100)\n",
        "print('Random Forest')\n",
        "print('mean_squared_error = ',x1)\n",
        "print('mean_absolute_error = ',x2)\n",
        "print('r2_score = ',A2)"
      ],
      "metadata": {
        "id": "WArb9hJ1Asal",
        "colab": {
          "base_uri": "https://localhost:8080/"
        },
        "outputId": "367d9f2b-3a43-4dcd-de58-4f6652044347"
      },
      "execution_count": 13,
      "outputs": [
        {
          "output_type": "stream",
          "name": "stderr",
          "text": [
            "/usr/local/lib/python3.10/dist-packages/sklearn/base.py:1152: DataConversionWarning: A column-vector y was passed when a 1d array was expected. Please change the shape of y to (n_samples,), for example using ravel().\n",
            "  return fit_method(estimator, *args, **kwargs)\n"
          ]
        },
        {
          "output_type": "stream",
          "name": "stdout",
          "text": [
            "Random Forest\n",
            "mean_squared_error =  0.0011791794613365614\n",
            "mean_absolute_error =  0.0263635328457665\n",
            "r2_score =  0.38874410675994464\n"
          ]
        }
      ]
    },
    {
      "cell_type": "markdown",
      "source": [
        "DONE\n",
        "\n",
        "---\n",
        "\n",
        "\n",
        "\n",
        "---\n",
        "\n"
      ],
      "metadata": {
        "id": "gcUUBHUsOx99"
      }
    },
    {
      "cell_type": "markdown",
      "source": [
        "LINER REGRESSION\n",
        "\n",
        "---\n",
        "\n",
        "\n",
        "\n",
        "---\n",
        "\n"
      ],
      "metadata": {
        "id": "jOPm2tuiO0sm"
      }
    },
    {
      "cell_type": "code",
      "source": [
        "from sklearn.linear_model import LinearRegression\n",
        "ln = LinearRegression()\n",
        "ln.fit(x_train,y_train)\n",
        "\n",
        "y_pred = ln.predict(x_test)\n",
        "\n",
        "from sklearn.metrics import mean_squared_error, r2_score, mean_absolute_error\n",
        "x0 = mean_squared_error(y_test,y_pred)\n",
        "x01 = mean_absolute_error(y_test,y_pred)\n",
        "A1 = r2_score(y_test,y_pred)\n",
        "accuracy = (A1 * 100)\n",
        "print('Linear Regression')\n",
        "print('mean_squared_error = ',x0)\n",
        "print('mean_absolute_error = ',x01)\n",
        "print('r2_score = ',A1)"
      ],
      "metadata": {
        "id": "GTSZ_lL0D4G7",
        "colab": {
          "base_uri": "https://localhost:8080/"
        },
        "outputId": "2784671e-5b82-4bb9-9910-467f58c01abc"
      },
      "execution_count": 14,
      "outputs": [
        {
          "output_type": "stream",
          "name": "stdout",
          "text": [
            "Linear Regression\n",
            "mean_squared_error =  0.0015172470454527544\n",
            "mean_absolute_error =  0.03233693834074083\n",
            "r2_score =  0.21349868409101125\n"
          ]
        }
      ]
    },
    {
      "cell_type": "markdown",
      "source": [
        "DONE\n",
        "\n",
        "---\n",
        "\n",
        "\n",
        "\n",
        "---\n",
        "\n"
      ],
      "metadata": {
        "id": "HfCAPvjrPS01"
      }
    },
    {
      "cell_type": "markdown",
      "source": [
        "RANDOM FOREST\n",
        "\n",
        "---\n",
        "\n",
        "\n",
        "\n",
        "---\n",
        "\n"
      ],
      "metadata": {
        "id": "KObUqXB-PVBW"
      }
    },
    {
      "cell_type": "code",
      "source": [
        "rf = RandomForestRegressor(n_estimators=500, max_depth=8)\n",
        "rf.fit(x_train,y_train)\n",
        "\n",
        "y_pred = rf.predict(x_test)\n",
        "\n",
        "from sklearn.metrics import mean_squared_error, r2_score, mean_absolute_error\n",
        "x1 = mean_squared_error(y_test,y_pred)\n",
        "x2 = mean_absolute_error(y_test,y_pred)\n",
        "A2 = r2_score(y_test,y_pred)\n",
        "accuracy = (A2 * 100)\n",
        "print('Random Forest')\n",
        "print('mean_squared_error = ',x1)\n",
        "print('mean_absolute_error = ',x2)\n",
        "print('r2_score = ',A2)"
      ],
      "metadata": {
        "id": "aHdju_uUsAi5",
        "colab": {
          "base_uri": "https://localhost:8080/"
        },
        "outputId": "f32e75fc-d3a9-4310-b647-5486285e926e"
      },
      "execution_count": 15,
      "outputs": [
        {
          "output_type": "stream",
          "name": "stderr",
          "text": [
            "/usr/local/lib/python3.10/dist-packages/sklearn/base.py:1152: DataConversionWarning: A column-vector y was passed when a 1d array was expected. Please change the shape of y to (n_samples,), for example using ravel().\n",
            "  return fit_method(estimator, *args, **kwargs)\n"
          ]
        },
        {
          "output_type": "stream",
          "name": "stdout",
          "text": [
            "Random Forest\n",
            "mean_squared_error =  0.0011776626292718912\n",
            "mean_absolute_error =  0.02635128148183589\n",
            "r2_score =  0.38953039296063396\n"
          ]
        }
      ]
    },
    {
      "cell_type": "code",
      "source": [
        "from sklearn.ensemble import RandomForestRegressor\n",
        "from sklearn.metrics import mean_squared_error,mean_absolute_percentage_error, r2_score, mean_absolute_error"
      ],
      "metadata": {
        "id": "rh12i0v35nRn"
      },
      "execution_count": 16,
      "outputs": []
    },
    {
      "cell_type": "code",
      "source": [
        "test_accuracy_rates = []\n",
        "\n",
        "for a in range(20,81):\n",
        "  b = a/100\n",
        "  y = selected_features.iloc[:,-1:]\n",
        "  x = selected_features.iloc[:,0:-1]\n",
        "  x_train, x_test, y_train, y_test = train_test_split(x, y, test_size = b, random_state = 42 )\n",
        "\n",
        "  rf = RandomForestRegressor(n_estimators=500, max_depth=11)\n",
        "  rf.fit(x_train,y_train)\n",
        "\n",
        "  y_pred = rf.predict(x_test)\n",
        "\n",
        "\n",
        "  A2 = r2_score(y_test,y_pred)\n",
        "  accuracy = (A2 * 100)\n",
        "  print(A2)\n",
        "  print(\"Accuracy for\" +str(b)+ \"is\" ,accuracy)\n",
        "\n",
        "  test_accuracy_rates.append(A2)\n",
        "\n",
        "test_accuracy_rates"
      ],
      "metadata": {
        "id": "L_GanZjc3Nf0",
        "colab": {
          "base_uri": "https://localhost:8080/"
        },
        "outputId": "8d8ff338-725a-40aa-e868-9f9b8090e217"
      },
      "execution_count": 17,
      "outputs": [
        {
          "output_type": "stream",
          "name": "stderr",
          "text": [
            "/usr/local/lib/python3.10/dist-packages/sklearn/base.py:1152: DataConversionWarning: A column-vector y was passed when a 1d array was expected. Please change the shape of y to (n_samples,), for example using ravel().\n",
            "  return fit_method(estimator, *args, **kwargs)\n"
          ]
        },
        {
          "output_type": "stream",
          "name": "stdout",
          "text": [
            "0.37010816803432844\n",
            "Accuracy for0.2is 37.010816803432846\n"
          ]
        },
        {
          "output_type": "stream",
          "name": "stderr",
          "text": [
            "/usr/local/lib/python3.10/dist-packages/sklearn/base.py:1152: DataConversionWarning: A column-vector y was passed when a 1d array was expected. Please change the shape of y to (n_samples,), for example using ravel().\n",
            "  return fit_method(estimator, *args, **kwargs)\n"
          ]
        },
        {
          "output_type": "stream",
          "name": "stdout",
          "text": [
            "0.3696573487721241\n",
            "Accuracy for0.21is 36.965734877212405\n"
          ]
        },
        {
          "output_type": "stream",
          "name": "stderr",
          "text": [
            "/usr/local/lib/python3.10/dist-packages/sklearn/base.py:1152: DataConversionWarning: A column-vector y was passed when a 1d array was expected. Please change the shape of y to (n_samples,), for example using ravel().\n",
            "  return fit_method(estimator, *args, **kwargs)\n"
          ]
        },
        {
          "output_type": "stream",
          "name": "stdout",
          "text": [
            "0.3746789407673411\n",
            "Accuracy for0.22is 37.46789407673411\n"
          ]
        },
        {
          "output_type": "stream",
          "name": "stderr",
          "text": [
            "/usr/local/lib/python3.10/dist-packages/sklearn/base.py:1152: DataConversionWarning: A column-vector y was passed when a 1d array was expected. Please change the shape of y to (n_samples,), for example using ravel().\n",
            "  return fit_method(estimator, *args, **kwargs)\n"
          ]
        },
        {
          "output_type": "stream",
          "name": "stdout",
          "text": [
            "0.38003358786517416\n",
            "Accuracy for0.23is 38.00335878651742\n"
          ]
        },
        {
          "output_type": "stream",
          "name": "stderr",
          "text": [
            "/usr/local/lib/python3.10/dist-packages/sklearn/base.py:1152: DataConversionWarning: A column-vector y was passed when a 1d array was expected. Please change the shape of y to (n_samples,), for example using ravel().\n",
            "  return fit_method(estimator, *args, **kwargs)\n"
          ]
        },
        {
          "output_type": "stream",
          "name": "stdout",
          "text": [
            "0.383031772168519\n",
            "Accuracy for0.24is 38.3031772168519\n"
          ]
        },
        {
          "output_type": "stream",
          "name": "stderr",
          "text": [
            "/usr/local/lib/python3.10/dist-packages/sklearn/base.py:1152: DataConversionWarning: A column-vector y was passed when a 1d array was expected. Please change the shape of y to (n_samples,), for example using ravel().\n",
            "  return fit_method(estimator, *args, **kwargs)\n"
          ]
        },
        {
          "output_type": "stream",
          "name": "stdout",
          "text": [
            "0.393543938701167\n",
            "Accuracy for0.25is 39.3543938701167\n"
          ]
        },
        {
          "output_type": "stream",
          "name": "stderr",
          "text": [
            "/usr/local/lib/python3.10/dist-packages/sklearn/base.py:1152: DataConversionWarning: A column-vector y was passed when a 1d array was expected. Please change the shape of y to (n_samples,), for example using ravel().\n",
            "  return fit_method(estimator, *args, **kwargs)\n"
          ]
        },
        {
          "output_type": "stream",
          "name": "stdout",
          "text": [
            "0.38825719722848573\n",
            "Accuracy for0.26is 38.825719722848575\n"
          ]
        },
        {
          "output_type": "stream",
          "name": "stderr",
          "text": [
            "/usr/local/lib/python3.10/dist-packages/sklearn/base.py:1152: DataConversionWarning: A column-vector y was passed when a 1d array was expected. Please change the shape of y to (n_samples,), for example using ravel().\n",
            "  return fit_method(estimator, *args, **kwargs)\n"
          ]
        },
        {
          "output_type": "stream",
          "name": "stdout",
          "text": [
            "0.3735853922192153\n",
            "Accuracy for0.27is 37.358539221921525\n"
          ]
        },
        {
          "output_type": "stream",
          "name": "stderr",
          "text": [
            "/usr/local/lib/python3.10/dist-packages/sklearn/base.py:1152: DataConversionWarning: A column-vector y was passed when a 1d array was expected. Please change the shape of y to (n_samples,), for example using ravel().\n",
            "  return fit_method(estimator, *args, **kwargs)\n"
          ]
        },
        {
          "output_type": "stream",
          "name": "stdout",
          "text": [
            "0.3739766103252372\n",
            "Accuracy for0.28is 37.39766103252372\n"
          ]
        },
        {
          "output_type": "stream",
          "name": "stderr",
          "text": [
            "/usr/local/lib/python3.10/dist-packages/sklearn/base.py:1152: DataConversionWarning: A column-vector y was passed when a 1d array was expected. Please change the shape of y to (n_samples,), for example using ravel().\n",
            "  return fit_method(estimator, *args, **kwargs)\n"
          ]
        },
        {
          "output_type": "stream",
          "name": "stdout",
          "text": [
            "0.3774516704631088\n",
            "Accuracy for0.29is 37.74516704631088\n"
          ]
        },
        {
          "output_type": "stream",
          "name": "stderr",
          "text": [
            "/usr/local/lib/python3.10/dist-packages/sklearn/base.py:1152: DataConversionWarning: A column-vector y was passed when a 1d array was expected. Please change the shape of y to (n_samples,), for example using ravel().\n",
            "  return fit_method(estimator, *args, **kwargs)\n"
          ]
        },
        {
          "output_type": "stream",
          "name": "stdout",
          "text": [
            "0.38716667528094695\n",
            "Accuracy for0.3is 38.716667528094696\n"
          ]
        },
        {
          "output_type": "stream",
          "name": "stderr",
          "text": [
            "/usr/local/lib/python3.10/dist-packages/sklearn/base.py:1152: DataConversionWarning: A column-vector y was passed when a 1d array was expected. Please change the shape of y to (n_samples,), for example using ravel().\n",
            "  return fit_method(estimator, *args, **kwargs)\n"
          ]
        },
        {
          "output_type": "stream",
          "name": "stdout",
          "text": [
            "0.3807128628850798\n",
            "Accuracy for0.31is 38.07128628850798\n"
          ]
        },
        {
          "output_type": "stream",
          "name": "stderr",
          "text": [
            "/usr/local/lib/python3.10/dist-packages/sklearn/base.py:1152: DataConversionWarning: A column-vector y was passed when a 1d array was expected. Please change the shape of y to (n_samples,), for example using ravel().\n",
            "  return fit_method(estimator, *args, **kwargs)\n"
          ]
        },
        {
          "output_type": "stream",
          "name": "stdout",
          "text": [
            "0.3790233879586421\n",
            "Accuracy for0.32is 37.90233879586421\n"
          ]
        },
        {
          "output_type": "stream",
          "name": "stderr",
          "text": [
            "/usr/local/lib/python3.10/dist-packages/sklearn/base.py:1152: DataConversionWarning: A column-vector y was passed when a 1d array was expected. Please change the shape of y to (n_samples,), for example using ravel().\n",
            "  return fit_method(estimator, *args, **kwargs)\n"
          ]
        },
        {
          "output_type": "stream",
          "name": "stdout",
          "text": [
            "0.38131468453956063\n",
            "Accuracy for0.33is 38.13146845395606\n"
          ]
        },
        {
          "output_type": "stream",
          "name": "stderr",
          "text": [
            "/usr/local/lib/python3.10/dist-packages/sklearn/base.py:1152: DataConversionWarning: A column-vector y was passed when a 1d array was expected. Please change the shape of y to (n_samples,), for example using ravel().\n",
            "  return fit_method(estimator, *args, **kwargs)\n"
          ]
        },
        {
          "output_type": "stream",
          "name": "stdout",
          "text": [
            "0.3823897496273464\n",
            "Accuracy for0.34is 38.23897496273464\n"
          ]
        },
        {
          "output_type": "stream",
          "name": "stderr",
          "text": [
            "/usr/local/lib/python3.10/dist-packages/sklearn/base.py:1152: DataConversionWarning: A column-vector y was passed when a 1d array was expected. Please change the shape of y to (n_samples,), for example using ravel().\n",
            "  return fit_method(estimator, *args, **kwargs)\n"
          ]
        },
        {
          "output_type": "stream",
          "name": "stdout",
          "text": [
            "0.3755280025868758\n",
            "Accuracy for0.35is 37.55280025868758\n"
          ]
        },
        {
          "output_type": "stream",
          "name": "stderr",
          "text": [
            "/usr/local/lib/python3.10/dist-packages/sklearn/base.py:1152: DataConversionWarning: A column-vector y was passed when a 1d array was expected. Please change the shape of y to (n_samples,), for example using ravel().\n",
            "  return fit_method(estimator, *args, **kwargs)\n"
          ]
        },
        {
          "output_type": "stream",
          "name": "stdout",
          "text": [
            "0.3746310288902598\n",
            "Accuracy for0.36is 37.463102889025976\n"
          ]
        },
        {
          "output_type": "stream",
          "name": "stderr",
          "text": [
            "/usr/local/lib/python3.10/dist-packages/sklearn/base.py:1152: DataConversionWarning: A column-vector y was passed when a 1d array was expected. Please change the shape of y to (n_samples,), for example using ravel().\n",
            "  return fit_method(estimator, *args, **kwargs)\n"
          ]
        },
        {
          "output_type": "stream",
          "name": "stdout",
          "text": [
            "0.36722223141545274\n",
            "Accuracy for0.37is 36.72222314154527\n"
          ]
        },
        {
          "output_type": "stream",
          "name": "stderr",
          "text": [
            "/usr/local/lib/python3.10/dist-packages/sklearn/base.py:1152: DataConversionWarning: A column-vector y was passed when a 1d array was expected. Please change the shape of y to (n_samples,), for example using ravel().\n",
            "  return fit_method(estimator, *args, **kwargs)\n"
          ]
        },
        {
          "output_type": "stream",
          "name": "stdout",
          "text": [
            "0.3667543441154981\n",
            "Accuracy for0.38is 36.675434411549816\n"
          ]
        },
        {
          "output_type": "stream",
          "name": "stderr",
          "text": [
            "/usr/local/lib/python3.10/dist-packages/sklearn/base.py:1152: DataConversionWarning: A column-vector y was passed when a 1d array was expected. Please change the shape of y to (n_samples,), for example using ravel().\n",
            "  return fit_method(estimator, *args, **kwargs)\n"
          ]
        },
        {
          "output_type": "stream",
          "name": "stdout",
          "text": [
            "0.36981947374749236\n",
            "Accuracy for0.39is 36.98194737474923\n"
          ]
        },
        {
          "output_type": "stream",
          "name": "stderr",
          "text": [
            "/usr/local/lib/python3.10/dist-packages/sklearn/base.py:1152: DataConversionWarning: A column-vector y was passed when a 1d array was expected. Please change the shape of y to (n_samples,), for example using ravel().\n",
            "  return fit_method(estimator, *args, **kwargs)\n"
          ]
        },
        {
          "output_type": "stream",
          "name": "stdout",
          "text": [
            "0.3660190990833341\n",
            "Accuracy for0.4is 36.60190990833341\n"
          ]
        },
        {
          "output_type": "stream",
          "name": "stderr",
          "text": [
            "/usr/local/lib/python3.10/dist-packages/sklearn/base.py:1152: DataConversionWarning: A column-vector y was passed when a 1d array was expected. Please change the shape of y to (n_samples,), for example using ravel().\n",
            "  return fit_method(estimator, *args, **kwargs)\n"
          ]
        },
        {
          "output_type": "stream",
          "name": "stdout",
          "text": [
            "0.36645639169729693\n",
            "Accuracy for0.41is 36.64563916972969\n"
          ]
        },
        {
          "output_type": "stream",
          "name": "stderr",
          "text": [
            "/usr/local/lib/python3.10/dist-packages/sklearn/base.py:1152: DataConversionWarning: A column-vector y was passed when a 1d array was expected. Please change the shape of y to (n_samples,), for example using ravel().\n",
            "  return fit_method(estimator, *args, **kwargs)\n"
          ]
        },
        {
          "output_type": "stream",
          "name": "stdout",
          "text": [
            "0.367586183076382\n",
            "Accuracy for0.42is 36.7586183076382\n"
          ]
        },
        {
          "output_type": "stream",
          "name": "stderr",
          "text": [
            "/usr/local/lib/python3.10/dist-packages/sklearn/base.py:1152: DataConversionWarning: A column-vector y was passed when a 1d array was expected. Please change the shape of y to (n_samples,), for example using ravel().\n",
            "  return fit_method(estimator, *args, **kwargs)\n"
          ]
        },
        {
          "output_type": "stream",
          "name": "stdout",
          "text": [
            "0.35894968259156634\n",
            "Accuracy for0.43is 35.894968259156634\n"
          ]
        },
        {
          "output_type": "stream",
          "name": "stderr",
          "text": [
            "/usr/local/lib/python3.10/dist-packages/sklearn/base.py:1152: DataConversionWarning: A column-vector y was passed when a 1d array was expected. Please change the shape of y to (n_samples,), for example using ravel().\n",
            "  return fit_method(estimator, *args, **kwargs)\n"
          ]
        },
        {
          "output_type": "stream",
          "name": "stdout",
          "text": [
            "0.35415130521756266\n",
            "Accuracy for0.44is 35.41513052175627\n"
          ]
        },
        {
          "output_type": "stream",
          "name": "stderr",
          "text": [
            "/usr/local/lib/python3.10/dist-packages/sklearn/base.py:1152: DataConversionWarning: A column-vector y was passed when a 1d array was expected. Please change the shape of y to (n_samples,), for example using ravel().\n",
            "  return fit_method(estimator, *args, **kwargs)\n"
          ]
        },
        {
          "output_type": "stream",
          "name": "stdout",
          "text": [
            "0.35884726793520494\n",
            "Accuracy for0.45is 35.88472679352049\n"
          ]
        },
        {
          "output_type": "stream",
          "name": "stderr",
          "text": [
            "/usr/local/lib/python3.10/dist-packages/sklearn/base.py:1152: DataConversionWarning: A column-vector y was passed when a 1d array was expected. Please change the shape of y to (n_samples,), for example using ravel().\n",
            "  return fit_method(estimator, *args, **kwargs)\n"
          ]
        },
        {
          "output_type": "stream",
          "name": "stdout",
          "text": [
            "0.35500064820064015\n",
            "Accuracy for0.46is 35.50006482006401\n"
          ]
        },
        {
          "output_type": "stream",
          "name": "stderr",
          "text": [
            "/usr/local/lib/python3.10/dist-packages/sklearn/base.py:1152: DataConversionWarning: A column-vector y was passed when a 1d array was expected. Please change the shape of y to (n_samples,), for example using ravel().\n",
            "  return fit_method(estimator, *args, **kwargs)\n"
          ]
        },
        {
          "output_type": "stream",
          "name": "stdout",
          "text": [
            "0.3527802332096436\n",
            "Accuracy for0.47is 35.27802332096436\n"
          ]
        },
        {
          "output_type": "stream",
          "name": "stderr",
          "text": [
            "/usr/local/lib/python3.10/dist-packages/sklearn/base.py:1152: DataConversionWarning: A column-vector y was passed when a 1d array was expected. Please change the shape of y to (n_samples,), for example using ravel().\n",
            "  return fit_method(estimator, *args, **kwargs)\n"
          ]
        },
        {
          "output_type": "stream",
          "name": "stdout",
          "text": [
            "0.35452259762026794\n",
            "Accuracy for0.48is 35.45225976202679\n"
          ]
        },
        {
          "output_type": "stream",
          "name": "stderr",
          "text": [
            "/usr/local/lib/python3.10/dist-packages/sklearn/base.py:1152: DataConversionWarning: A column-vector y was passed when a 1d array was expected. Please change the shape of y to (n_samples,), for example using ravel().\n",
            "  return fit_method(estimator, *args, **kwargs)\n"
          ]
        },
        {
          "output_type": "stream",
          "name": "stdout",
          "text": [
            "0.3559524671985448\n",
            "Accuracy for0.49is 35.59524671985448\n"
          ]
        },
        {
          "output_type": "stream",
          "name": "stderr",
          "text": [
            "/usr/local/lib/python3.10/dist-packages/sklearn/base.py:1152: DataConversionWarning: A column-vector y was passed when a 1d array was expected. Please change the shape of y to (n_samples,), for example using ravel().\n",
            "  return fit_method(estimator, *args, **kwargs)\n"
          ]
        },
        {
          "output_type": "stream",
          "name": "stdout",
          "text": [
            "0.3476670491981695\n",
            "Accuracy for0.5is 34.766704919816945\n"
          ]
        },
        {
          "output_type": "stream",
          "name": "stderr",
          "text": [
            "/usr/local/lib/python3.10/dist-packages/sklearn/base.py:1152: DataConversionWarning: A column-vector y was passed when a 1d array was expected. Please change the shape of y to (n_samples,), for example using ravel().\n",
            "  return fit_method(estimator, *args, **kwargs)\n"
          ]
        },
        {
          "output_type": "stream",
          "name": "stdout",
          "text": [
            "0.3444737423529285\n",
            "Accuracy for0.51is 34.44737423529285\n"
          ]
        },
        {
          "output_type": "stream",
          "name": "stderr",
          "text": [
            "/usr/local/lib/python3.10/dist-packages/sklearn/base.py:1152: DataConversionWarning: A column-vector y was passed when a 1d array was expected. Please change the shape of y to (n_samples,), for example using ravel().\n",
            "  return fit_method(estimator, *args, **kwargs)\n"
          ]
        },
        {
          "output_type": "stream",
          "name": "stdout",
          "text": [
            "0.34731119119694875\n",
            "Accuracy for0.52is 34.731119119694874\n"
          ]
        },
        {
          "output_type": "stream",
          "name": "stderr",
          "text": [
            "/usr/local/lib/python3.10/dist-packages/sklearn/base.py:1152: DataConversionWarning: A column-vector y was passed when a 1d array was expected. Please change the shape of y to (n_samples,), for example using ravel().\n",
            "  return fit_method(estimator, *args, **kwargs)\n"
          ]
        },
        {
          "output_type": "stream",
          "name": "stdout",
          "text": [
            "0.35091865709150705\n",
            "Accuracy for0.53is 35.0918657091507\n"
          ]
        },
        {
          "output_type": "stream",
          "name": "stderr",
          "text": [
            "/usr/local/lib/python3.10/dist-packages/sklearn/base.py:1152: DataConversionWarning: A column-vector y was passed when a 1d array was expected. Please change the shape of y to (n_samples,), for example using ravel().\n",
            "  return fit_method(estimator, *args, **kwargs)\n"
          ]
        },
        {
          "output_type": "stream",
          "name": "stdout",
          "text": [
            "0.3505926372441146\n",
            "Accuracy for0.54is 35.05926372441146\n"
          ]
        },
        {
          "output_type": "stream",
          "name": "stderr",
          "text": [
            "/usr/local/lib/python3.10/dist-packages/sklearn/base.py:1152: DataConversionWarning: A column-vector y was passed when a 1d array was expected. Please change the shape of y to (n_samples,), for example using ravel().\n",
            "  return fit_method(estimator, *args, **kwargs)\n"
          ]
        },
        {
          "output_type": "stream",
          "name": "stdout",
          "text": [
            "0.3487482187062958\n",
            "Accuracy for0.55is 34.87482187062958\n"
          ]
        },
        {
          "output_type": "stream",
          "name": "stderr",
          "text": [
            "/usr/local/lib/python3.10/dist-packages/sklearn/base.py:1152: DataConversionWarning: A column-vector y was passed when a 1d array was expected. Please change the shape of y to (n_samples,), for example using ravel().\n",
            "  return fit_method(estimator, *args, **kwargs)\n"
          ]
        },
        {
          "output_type": "stream",
          "name": "stdout",
          "text": [
            "0.3459303742850264\n",
            "Accuracy for0.56is 34.59303742850264\n"
          ]
        },
        {
          "output_type": "stream",
          "name": "stderr",
          "text": [
            "/usr/local/lib/python3.10/dist-packages/sklearn/base.py:1152: DataConversionWarning: A column-vector y was passed when a 1d array was expected. Please change the shape of y to (n_samples,), for example using ravel().\n",
            "  return fit_method(estimator, *args, **kwargs)\n"
          ]
        },
        {
          "output_type": "stream",
          "name": "stdout",
          "text": [
            "0.34902502956606407\n",
            "Accuracy for0.57is 34.902502956606405\n"
          ]
        },
        {
          "output_type": "stream",
          "name": "stderr",
          "text": [
            "/usr/local/lib/python3.10/dist-packages/sklearn/base.py:1152: DataConversionWarning: A column-vector y was passed when a 1d array was expected. Please change the shape of y to (n_samples,), for example using ravel().\n",
            "  return fit_method(estimator, *args, **kwargs)\n"
          ]
        },
        {
          "output_type": "stream",
          "name": "stdout",
          "text": [
            "0.34760503038619095\n",
            "Accuracy for0.58is 34.76050303861909\n"
          ]
        },
        {
          "output_type": "stream",
          "name": "stderr",
          "text": [
            "/usr/local/lib/python3.10/dist-packages/sklearn/base.py:1152: DataConversionWarning: A column-vector y was passed when a 1d array was expected. Please change the shape of y to (n_samples,), for example using ravel().\n",
            "  return fit_method(estimator, *args, **kwargs)\n"
          ]
        },
        {
          "output_type": "stream",
          "name": "stdout",
          "text": [
            "0.3550639741664531\n",
            "Accuracy for0.59is 35.50639741664531\n"
          ]
        },
        {
          "output_type": "stream",
          "name": "stderr",
          "text": [
            "/usr/local/lib/python3.10/dist-packages/sklearn/base.py:1152: DataConversionWarning: A column-vector y was passed when a 1d array was expected. Please change the shape of y to (n_samples,), for example using ravel().\n",
            "  return fit_method(estimator, *args, **kwargs)\n"
          ]
        },
        {
          "output_type": "stream",
          "name": "stdout",
          "text": [
            "0.35375811362701903\n",
            "Accuracy for0.6is 35.3758113627019\n"
          ]
        },
        {
          "output_type": "stream",
          "name": "stderr",
          "text": [
            "/usr/local/lib/python3.10/dist-packages/sklearn/base.py:1152: DataConversionWarning: A column-vector y was passed when a 1d array was expected. Please change the shape of y to (n_samples,), for example using ravel().\n",
            "  return fit_method(estimator, *args, **kwargs)\n"
          ]
        },
        {
          "output_type": "stream",
          "name": "stdout",
          "text": [
            "0.35640830569441695\n",
            "Accuracy for0.61is 35.6408305694417\n"
          ]
        },
        {
          "output_type": "stream",
          "name": "stderr",
          "text": [
            "/usr/local/lib/python3.10/dist-packages/sklearn/base.py:1152: DataConversionWarning: A column-vector y was passed when a 1d array was expected. Please change the shape of y to (n_samples,), for example using ravel().\n",
            "  return fit_method(estimator, *args, **kwargs)\n"
          ]
        },
        {
          "output_type": "stream",
          "name": "stdout",
          "text": [
            "0.3539162083273588\n",
            "Accuracy for0.62is 35.39162083273588\n"
          ]
        },
        {
          "output_type": "stream",
          "name": "stderr",
          "text": [
            "/usr/local/lib/python3.10/dist-packages/sklearn/base.py:1152: DataConversionWarning: A column-vector y was passed when a 1d array was expected. Please change the shape of y to (n_samples,), for example using ravel().\n",
            "  return fit_method(estimator, *args, **kwargs)\n"
          ]
        },
        {
          "output_type": "stream",
          "name": "stdout",
          "text": [
            "0.35053428293014754\n",
            "Accuracy for0.63is 35.053428293014754\n"
          ]
        },
        {
          "output_type": "stream",
          "name": "stderr",
          "text": [
            "/usr/local/lib/python3.10/dist-packages/sklearn/base.py:1152: DataConversionWarning: A column-vector y was passed when a 1d array was expected. Please change the shape of y to (n_samples,), for example using ravel().\n",
            "  return fit_method(estimator, *args, **kwargs)\n"
          ]
        },
        {
          "output_type": "stream",
          "name": "stdout",
          "text": [
            "0.35845529791435693\n",
            "Accuracy for0.64is 35.845529791435695\n"
          ]
        },
        {
          "output_type": "stream",
          "name": "stderr",
          "text": [
            "/usr/local/lib/python3.10/dist-packages/sklearn/base.py:1152: DataConversionWarning: A column-vector y was passed when a 1d array was expected. Please change the shape of y to (n_samples,), for example using ravel().\n",
            "  return fit_method(estimator, *args, **kwargs)\n"
          ]
        },
        {
          "output_type": "stream",
          "name": "stdout",
          "text": [
            "0.3516215104061654\n",
            "Accuracy for0.65is 35.16215104061654\n"
          ]
        },
        {
          "output_type": "stream",
          "name": "stderr",
          "text": [
            "/usr/local/lib/python3.10/dist-packages/sklearn/base.py:1152: DataConversionWarning: A column-vector y was passed when a 1d array was expected. Please change the shape of y to (n_samples,), for example using ravel().\n",
            "  return fit_method(estimator, *args, **kwargs)\n"
          ]
        },
        {
          "output_type": "stream",
          "name": "stdout",
          "text": [
            "0.3502126657740594\n",
            "Accuracy for0.66is 35.02126657740594\n"
          ]
        },
        {
          "output_type": "stream",
          "name": "stderr",
          "text": [
            "/usr/local/lib/python3.10/dist-packages/sklearn/base.py:1152: DataConversionWarning: A column-vector y was passed when a 1d array was expected. Please change the shape of y to (n_samples,), for example using ravel().\n",
            "  return fit_method(estimator, *args, **kwargs)\n"
          ]
        },
        {
          "output_type": "stream",
          "name": "stdout",
          "text": [
            "0.34315370741523865\n",
            "Accuracy for0.67is 34.315370741523864\n"
          ]
        },
        {
          "output_type": "stream",
          "name": "stderr",
          "text": [
            "/usr/local/lib/python3.10/dist-packages/sklearn/base.py:1152: DataConversionWarning: A column-vector y was passed when a 1d array was expected. Please change the shape of y to (n_samples,), for example using ravel().\n",
            "  return fit_method(estimator, *args, **kwargs)\n"
          ]
        },
        {
          "output_type": "stream",
          "name": "stdout",
          "text": [
            "0.3453725995845299\n",
            "Accuracy for0.68is 34.53725995845299\n"
          ]
        },
        {
          "output_type": "stream",
          "name": "stderr",
          "text": [
            "/usr/local/lib/python3.10/dist-packages/sklearn/base.py:1152: DataConversionWarning: A column-vector y was passed when a 1d array was expected. Please change the shape of y to (n_samples,), for example using ravel().\n",
            "  return fit_method(estimator, *args, **kwargs)\n"
          ]
        },
        {
          "output_type": "stream",
          "name": "stdout",
          "text": [
            "0.3381381051544011\n",
            "Accuracy for0.69is 33.81381051544011\n"
          ]
        },
        {
          "output_type": "stream",
          "name": "stderr",
          "text": [
            "/usr/local/lib/python3.10/dist-packages/sklearn/base.py:1152: DataConversionWarning: A column-vector y was passed when a 1d array was expected. Please change the shape of y to (n_samples,), for example using ravel().\n",
            "  return fit_method(estimator, *args, **kwargs)\n"
          ]
        },
        {
          "output_type": "stream",
          "name": "stdout",
          "text": [
            "0.33751241496798734\n",
            "Accuracy for0.7is 33.751241496798734\n"
          ]
        },
        {
          "output_type": "stream",
          "name": "stderr",
          "text": [
            "/usr/local/lib/python3.10/dist-packages/sklearn/base.py:1152: DataConversionWarning: A column-vector y was passed when a 1d array was expected. Please change the shape of y to (n_samples,), for example using ravel().\n",
            "  return fit_method(estimator, *args, **kwargs)\n"
          ]
        },
        {
          "output_type": "stream",
          "name": "stdout",
          "text": [
            "0.32892353252309525\n",
            "Accuracy for0.71is 32.892353252309526\n"
          ]
        },
        {
          "output_type": "stream",
          "name": "stderr",
          "text": [
            "/usr/local/lib/python3.10/dist-packages/sklearn/base.py:1152: DataConversionWarning: A column-vector y was passed when a 1d array was expected. Please change the shape of y to (n_samples,), for example using ravel().\n",
            "  return fit_method(estimator, *args, **kwargs)\n"
          ]
        },
        {
          "output_type": "stream",
          "name": "stdout",
          "text": [
            "0.31829634300550336\n",
            "Accuracy for0.72is 31.829634300550335\n"
          ]
        },
        {
          "output_type": "stream",
          "name": "stderr",
          "text": [
            "/usr/local/lib/python3.10/dist-packages/sklearn/base.py:1152: DataConversionWarning: A column-vector y was passed when a 1d array was expected. Please change the shape of y to (n_samples,), for example using ravel().\n",
            "  return fit_method(estimator, *args, **kwargs)\n"
          ]
        },
        {
          "output_type": "stream",
          "name": "stdout",
          "text": [
            "0.3164395581174484\n",
            "Accuracy for0.73is 31.64395581174484\n"
          ]
        },
        {
          "output_type": "stream",
          "name": "stderr",
          "text": [
            "/usr/local/lib/python3.10/dist-packages/sklearn/base.py:1152: DataConversionWarning: A column-vector y was passed when a 1d array was expected. Please change the shape of y to (n_samples,), for example using ravel().\n",
            "  return fit_method(estimator, *args, **kwargs)\n"
          ]
        },
        {
          "output_type": "stream",
          "name": "stdout",
          "text": [
            "0.3152260020068457\n",
            "Accuracy for0.74is 31.52260020068457\n"
          ]
        },
        {
          "output_type": "stream",
          "name": "stderr",
          "text": [
            "/usr/local/lib/python3.10/dist-packages/sklearn/base.py:1152: DataConversionWarning: A column-vector y was passed when a 1d array was expected. Please change the shape of y to (n_samples,), for example using ravel().\n",
            "  return fit_method(estimator, *args, **kwargs)\n"
          ]
        },
        {
          "output_type": "stream",
          "name": "stdout",
          "text": [
            "0.3269946584251322\n",
            "Accuracy for0.75is 32.69946584251322\n"
          ]
        },
        {
          "output_type": "stream",
          "name": "stderr",
          "text": [
            "/usr/local/lib/python3.10/dist-packages/sklearn/base.py:1152: DataConversionWarning: A column-vector y was passed when a 1d array was expected. Please change the shape of y to (n_samples,), for example using ravel().\n",
            "  return fit_method(estimator, *args, **kwargs)\n"
          ]
        },
        {
          "output_type": "stream",
          "name": "stdout",
          "text": [
            "0.32674854939274545\n",
            "Accuracy for0.76is 32.674854939274546\n"
          ]
        },
        {
          "output_type": "stream",
          "name": "stderr",
          "text": [
            "/usr/local/lib/python3.10/dist-packages/sklearn/base.py:1152: DataConversionWarning: A column-vector y was passed when a 1d array was expected. Please change the shape of y to (n_samples,), for example using ravel().\n",
            "  return fit_method(estimator, *args, **kwargs)\n"
          ]
        },
        {
          "output_type": "stream",
          "name": "stdout",
          "text": [
            "0.3274250992173202\n",
            "Accuracy for0.77is 32.74250992173202\n"
          ]
        },
        {
          "output_type": "stream",
          "name": "stderr",
          "text": [
            "/usr/local/lib/python3.10/dist-packages/sklearn/base.py:1152: DataConversionWarning: A column-vector y was passed when a 1d array was expected. Please change the shape of y to (n_samples,), for example using ravel().\n",
            "  return fit_method(estimator, *args, **kwargs)\n"
          ]
        },
        {
          "output_type": "stream",
          "name": "stdout",
          "text": [
            "0.31220183648033983\n",
            "Accuracy for0.78is 31.220183648033984\n"
          ]
        },
        {
          "output_type": "stream",
          "name": "stderr",
          "text": [
            "/usr/local/lib/python3.10/dist-packages/sklearn/base.py:1152: DataConversionWarning: A column-vector y was passed when a 1d array was expected. Please change the shape of y to (n_samples,), for example using ravel().\n",
            "  return fit_method(estimator, *args, **kwargs)\n"
          ]
        },
        {
          "output_type": "stream",
          "name": "stdout",
          "text": [
            "0.308515667189576\n",
            "Accuracy for0.79is 30.851566718957603\n"
          ]
        },
        {
          "output_type": "stream",
          "name": "stderr",
          "text": [
            "/usr/local/lib/python3.10/dist-packages/sklearn/base.py:1152: DataConversionWarning: A column-vector y was passed when a 1d array was expected. Please change the shape of y to (n_samples,), for example using ravel().\n",
            "  return fit_method(estimator, *args, **kwargs)\n"
          ]
        },
        {
          "output_type": "stream",
          "name": "stdout",
          "text": [
            "0.29982782376509176\n",
            "Accuracy for0.8is 29.982782376509178\n"
          ]
        },
        {
          "output_type": "execute_result",
          "data": {
            "text/plain": [
              "[0.37010816803432844,\n",
              " 0.3696573487721241,\n",
              " 0.3746789407673411,\n",
              " 0.38003358786517416,\n",
              " 0.383031772168519,\n",
              " 0.393543938701167,\n",
              " 0.38825719722848573,\n",
              " 0.3735853922192153,\n",
              " 0.3739766103252372,\n",
              " 0.3774516704631088,\n",
              " 0.38716667528094695,\n",
              " 0.3807128628850798,\n",
              " 0.3790233879586421,\n",
              " 0.38131468453956063,\n",
              " 0.3823897496273464,\n",
              " 0.3755280025868758,\n",
              " 0.3746310288902598,\n",
              " 0.36722223141545274,\n",
              " 0.3667543441154981,\n",
              " 0.36981947374749236,\n",
              " 0.3660190990833341,\n",
              " 0.36645639169729693,\n",
              " 0.367586183076382,\n",
              " 0.35894968259156634,\n",
              " 0.35415130521756266,\n",
              " 0.35884726793520494,\n",
              " 0.35500064820064015,\n",
              " 0.3527802332096436,\n",
              " 0.35452259762026794,\n",
              " 0.3559524671985448,\n",
              " 0.3476670491981695,\n",
              " 0.3444737423529285,\n",
              " 0.34731119119694875,\n",
              " 0.35091865709150705,\n",
              " 0.3505926372441146,\n",
              " 0.3487482187062958,\n",
              " 0.3459303742850264,\n",
              " 0.34902502956606407,\n",
              " 0.34760503038619095,\n",
              " 0.3550639741664531,\n",
              " 0.35375811362701903,\n",
              " 0.35640830569441695,\n",
              " 0.3539162083273588,\n",
              " 0.35053428293014754,\n",
              " 0.35845529791435693,\n",
              " 0.3516215104061654,\n",
              " 0.3502126657740594,\n",
              " 0.34315370741523865,\n",
              " 0.3453725995845299,\n",
              " 0.3381381051544011,\n",
              " 0.33751241496798734,\n",
              " 0.32892353252309525,\n",
              " 0.31829634300550336,\n",
              " 0.3164395581174484,\n",
              " 0.3152260020068457,\n",
              " 0.3269946584251322,\n",
              " 0.32674854939274545,\n",
              " 0.3274250992173202,\n",
              " 0.31220183648033983,\n",
              " 0.308515667189576,\n",
              " 0.29982782376509176]"
            ]
          },
          "metadata": {},
          "execution_count": 17
        }
      ]
    },
    {
      "cell_type": "code",
      "source": [
        "import matplotlib.pyplot as plt\n",
        "plt.figure(figsize=(8,5), dpi=150)\n",
        "plt.plot(range(20,81), test_accuracy_rates, label='R2_score')\n",
        "plt.legend()\n",
        "plt.ylabel('Accuracy Rate')\n",
        "plt.xlabel('Test Size Value')"
      ],
      "metadata": {
        "id": "Ck0t0fo8-5V3",
        "colab": {
          "base_uri": "https://localhost:8080/",
          "height": 725
        },
        "outputId": "91b4d629-3c64-497b-be36-6c140d8d9a2a"
      },
      "execution_count": 18,
      "outputs": [
        {
          "output_type": "execute_result",
          "data": {
            "text/plain": [
              "Text(0.5, 0, 'Test Size Value')"
            ]
          },
          "metadata": {},
          "execution_count": 18
        },
        {
          "output_type": "display_data",
          "data": {
            "text/plain": [
              "<Figure size 1200x750 with 1 Axes>"
            ],
            "image/png": "[encoded data removed]"
          },
          "metadata": {}
        }
      ]
    },
    {
      "cell_type": "code",
      "source": [
        "y_pred.sort()\n",
        "print(y_pred)"
      ],
      "metadata": {
        "id": "uK-9b5HjqJ6f",
        "colab": {
          "base_uri": "https://localhost:8080/"
        },
        "outputId": "93dcdd6a-c585-4aaa-e3fc-720e1dbe78dc"
      },
      "execution_count": 19,
      "outputs": [
        {
          "output_type": "stream",
          "name": "stdout",
          "text": [
            "[0.12684534 0.1292724  0.1302169  ... 0.2636081  0.2642715  0.26482237]\n"
          ]
        }
      ]
    },
    {
      "cell_type": "code",
      "source": [
        "import matplotlib.pyplot as plt\n",
        "plt.figure(figsize=(8,5), dpi=100)\n",
        "plt.ylabel('tool wear')\n",
        "plt.xlabel('data points')\n",
        "plt.plot(y, label='actual value')\n",
        "plt.plot(y_pred, label='predicted values value')\n",
        "plt.plot(title='actual value')\n",
        "plt.legend()"
      ],
      "metadata": {
        "id": "YYpjlEGXoC_3",
        "colab": {
          "base_uri": "https://localhost:8080/",
          "height": 502
        },
        "outputId": "c0d2ef25-261d-4a93-fae9-86bbe0741d5a"
      },
      "execution_count": 20,
      "outputs": [
        {
          "output_type": "execute_result",
          "data": {
            "text/plain": [
              "<matplotlib.legend.Legend at 0x7a5f24d2a740>"
            ]
          },
          "metadata": {},
          "execution_count": 20
        },
        {
          "output_type": "display_data",
          "data": {
            "text/plain": [
              "<Figure size 800x500 with 1 Axes>"
            ],
            "image/png": "[encoded data removed]"
          },
          "metadata": {}
        }
      ]
    },
    {
      "cell_type": "code",
      "source": [
        "import matplotlib.pyplot as plt\n",
        "plt.figure(figsize=(8,5), dpi=150)\n",
        "plt.plot(range(1,15), test_accuracy_rates, label='R2_score')\n",
        "plt.legend()\n",
        "plt.ylabel('Error Rate')\n",
        "plt.xlabel('K Value')"
      ],
      "metadata": {
        "id": "f28hN10_ZRQl"
      },
      "execution_count": null,
      "outputs": []
    },
    {
      "cell_type": "markdown",
      "source": [
        "DONE\n",
        "\n",
        "---\n",
        "\n",
        "\n",
        "\n",
        "---\n",
        "\n"
      ],
      "metadata": {
        "id": "HQXjAAUpSdwB"
      }
    },
    {
      "cell_type": "markdown",
      "source": [
        "DECISION TREE\n",
        "\n",
        "---\n",
        "\n",
        "\n",
        "\n",
        "---\n",
        "\n"
      ],
      "metadata": {
        "id": "XmuXFlvRShb8"
      }
    },
    {
      "cell_type": "code",
      "source": [
        "from sklearn.tree import DecisionTreeRegressor\n",
        "dtr = DecisionTreeRegressor(random_state=42)\n",
        "dtr.fit(x_train,y_train)\n",
        "\n",
        "y_pred = dtr.predict(x_test)\n",
        "\n",
        "from sklearn.metrics import mean_squared_error, r2_score, mean_absolute_error\n",
        "x3 = mean_squared_error(y_test,y_pred)\n",
        "x4 = mean_absolute_error(y_test,y_pred)\n",
        "A3 = r2_score(y_test,y_pred)\n",
        "accuracy = (A3 * 100)\n",
        "print('Random Forest')\n",
        "print('mean_squared_error = ',x3)\n",
        "print('mean_absolute_error = ',x4)\n",
        "print('r2_score = ',A3)"
      ],
      "metadata": {
        "id": "t16xR3TgUqPC",
        "colab": {
          "base_uri": "https://localhost:8080/"
        },
        "outputId": "ecbf7b42-b091-45af-d2eb-e148f7866e22"
      },
      "execution_count": 23,
      "outputs": [
        {
          "output_type": "stream",
          "name": "stdout",
          "text": [
            "Random Forest\n",
            "mean_squared_error =  0.002295946510656081\n",
            "mean_absolute_error =  0.033004596740493115\n",
            "r2_score =  -0.250846981417822\n"
          ]
        }
      ]
    },
    {
      "cell_type": "markdown",
      "source": [
        "DONE\n",
        "\n",
        "---\n",
        "\n",
        "\n",
        "\n",
        "---\n",
        "\n"
      ],
      "metadata": {
        "id": "q9FQ92EqWoR0"
      }
    },
    {
      "cell_type": "markdown",
      "source": [
        "\n",
        "SVM\n",
        "\n",
        "---\n",
        "\n",
        "\n",
        "\n",
        "---\n",
        "\n"
      ],
      "metadata": {
        "id": "0syc__jHWrj0"
      }
    },
    {
      "cell_type": "code",
      "source": [
        "from sklearn.svm import SVR\n",
        "svr = SVR(kernel='rbf', C=1e3, gamma=0.5)\n",
        "svr.fit(x_train,y_train)\n",
        "\n",
        "y_pred = svr.predict(x_test)\n",
        "from sklearn.metrics import mean_squared_error, r2_score, mean_absolute_error\n",
        "x5 = mean_squared_error(y_test,y_pred)\n",
        "x6 = mean_absolute_error(y_test,y_pred)\n",
        "A4 = r2_score(y_test,y_pred)\n",
        "accuracy = (A4 * 100)\n",
        "print('Random Forest')\n",
        "print('mean_squared_error = ',x5)\n",
        "print('mean_absolute_error = ',x6)\n",
        "print('r2_score = ',A4)"
      ],
      "metadata": {
        "id": "Zwz55Li6XN3y",
        "colab": {
          "base_uri": "https://localhost:8080/"
        },
        "outputId": "d426dab9-c9a7-479a-be41-28468f8b086d"
      },
      "execution_count": 24,
      "outputs": [
        {
          "output_type": "stream",
          "name": "stdout",
          "text": [
            "Random Forest\n",
            "mean_squared_error =  0.0019135917258671128\n",
            "mean_absolute_error =  0.03912035102381948\n",
            "r2_score =  -0.04253754295129886\n"
          ]
        },
        {
          "output_type": "stream",
          "name": "stderr",
          "text": [
            "/usr/local/lib/python3.10/dist-packages/sklearn/utils/validation.py:1183: DataConversionWarning: A column-vector y was passed when a 1d array was expected. Please change the shape of y to (n_samples, ), for example using ravel().\n",
            "  y = column_or_1d(y, warn=True)\n"
          ]
        }
      ]
    },
    {
      "cell_type": "markdown",
      "source": [
        "\n",
        "\n",
        "---\n",
        "\n",
        "\n",
        "\n",
        "---\n",
        "\n"
      ],
      "metadata": {
        "id": "1Oo711SeZSCf"
      }
    },
    {
      "cell_type": "markdown",
      "source": [
        "\n",
        "KNN\n",
        "---\n",
        "\n",
        "\n",
        "\n",
        "---\n",
        "\n"
      ],
      "metadata": {
        "id": "m3ln0ORCZTja"
      }
    },
    {
      "cell_type": "code",
      "source": [
        "from sklearn.neighbors import KNeighborsRegressor\n",
        "knn = KNeighborsRegressor(n_neighbors=200)\n",
        "knn.fit(x_train,y_train)\n",
        "\n",
        "y_pred = knn.predict(x_test)\n",
        "from sklearn.metrics import mean_squared_error, r2_score, mean_absolute_error\n",
        "x7 = mean_squared_error(y_test,y_pred)\n",
        "x8 = mean_absolute_error(y_test,y_pred)\n",
        "A5 = r2_score(y_test,y_pred)\n",
        "accuracy = (A5 * 100)\n",
        "print('Random Forest')\n",
        "print('mean_squared_error = ',x7)\n",
        "print('mean_absolute_error = ',x8)\n",
        "print('r2_score = ',A5)"
      ],
      "metadata": {
        "id": "Z-LNQrYhZgYw",
        "colab": {
          "base_uri": "https://localhost:8080/"
        },
        "outputId": "9b636927-f14c-4089-a8d9-51244d9888e7"
      },
      "execution_count": 25,
      "outputs": [
        {
          "output_type": "stream",
          "name": "stdout",
          "text": [
            "Random Forest\n",
            "mean_squared_error =  0.0015711503249059757\n",
            "mean_absolute_error =  0.03228134141245299\n",
            "r2_score =  0.14402681763666936\n"
          ]
        }
      ]
    },
    {
      "cell_type": "markdown",
      "source": [
        "DONE\n",
        "\n",
        "---\n",
        "\n",
        "\n",
        "\n",
        "---\n",
        "\n"
      ],
      "metadata": {
        "id": "v5yrtLm2fL8F"
      }
    },
    {
      "cell_type": "markdown",
      "source": [
        "STASTICAL"
      ],
      "metadata": {
        "id": "vrSSaNvJizQ1"
      }
    },
    {
      "cell_type": "code",
      "source": [
        "print(\"Temporal\")\n",
        "\n",
        "print('Linear Regression')\n",
        "print('mean_squared_error = ',x0)\n",
        "print('mean_absolute_error = ',x01)\n",
        "print('r2_score = ',A1)\n",
        "\n",
        "print('Random Forest')\n",
        "print('mean_squared_error = ',x1)\n",
        "print('mean_absolute_error = ',x2)\n",
        "print('r2_score = ',A2)\n",
        "\n",
        "print('Desion Tree')\n",
        "print('mean_squared_error = ',x3)\n",
        "print('mean_absolute_error = ',x4)\n",
        "print('r2_score = ',A3)\n",
        "\n",
        "print('SVM')\n",
        "print('mean_squared_error = ',x5)\n",
        "print('mean_absolute_error = ',x6)\n",
        "print('r2_score = ',A4)\n",
        "\n",
        "print('KNN')\n",
        "print('mean_squared_error = ',x7)\n",
        "print('mean_absolute_error = ',x8)\n",
        "print('r2_score = ',A5)"
      ],
      "metadata": {
        "id": "rES8_oTGtjsx",
        "colab": {
          "base_uri": "https://localhost:8080/"
        },
        "outputId": "f18b9485-16d1-491e-971f-073e348d51c3"
      },
      "execution_count": 26,
      "outputs": [
        {
          "output_type": "stream",
          "name": "stdout",
          "text": [
            "Temporal\n",
            "Linear Regression\n",
            "mean_squared_error =  0.0015172470454527544\n",
            "mean_absolute_error =  0.03233693834074083\n",
            "r2_score =  0.21349868409101125\n",
            "Random Forest\n",
            "mean_squared_error =  0.0011776626292718912\n",
            "mean_absolute_error =  0.02635128148183589\n",
            "r2_score =  0.29982782376509176\n",
            "Desion Tree\n",
            "mean_squared_error =  0.002295946510656081\n",
            "mean_absolute_error =  0.033004596740493115\n",
            "r2_score =  -0.250846981417822\n",
            "SVM\n",
            "mean_squared_error =  0.0019135917258671128\n",
            "mean_absolute_error =  0.03912035102381948\n",
            "r2_score =  -0.04253754295129886\n",
            "KNN\n",
            "mean_squared_error =  0.0015711503249059757\n",
            "mean_absolute_error =  0.03228134141245299\n",
            "r2_score =  0.14402681763666936\n"
          ]
        }
      ]
    }
  ]
}